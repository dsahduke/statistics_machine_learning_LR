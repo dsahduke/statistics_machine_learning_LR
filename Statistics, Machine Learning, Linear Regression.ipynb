{
 "cells": [
  {
   "cell_type": "markdown",
   "metadata": {
    "slideshow": {
     "slide_type": "slide"
    }
   },
   "source": [
    "# Statistics and Machine Learning"
   ]
  },
  {
   "cell_type": "markdown",
   "metadata": {
    "slideshow": {
     "slide_type": "slide"
    }
   },
   "source": [
    "## Statistics"
   ]
  },
  {
   "cell_type": "markdown",
   "metadata": {
    "slideshow": {
     "slide_type": "subslide"
    }
   },
   "source": [
    " * Statistics as a field is concerned with learning from data\n",
    " * Making inferences about a population given a sample\n",
    " * Quantifying uncertainty\n",
    " * Testing hypotheses\n",
    " "
   ]
  },
  {
   "cell_type": "markdown",
   "metadata": {
    "slideshow": {
     "slide_type": "subslide"
    }
   },
   "source": [
    "#### Two main types:\n",
    "\n",
    " * Descriptive Statistics:\n",
    "     * Mean, Standard Deviation, correlation, etc.\n",
    " * Inferential Statistics:\n",
    "     * Deriving Estimates\n",
    "     * Trying to determine the underlying probability distribution of a phenomenon\n",
    "     * Hypothesis Testing"
   ]
  },
  {
   "cell_type": "markdown",
   "metadata": {
    "slideshow": {
     "slide_type": "slide"
    }
   },
   "source": [
    "#### Ultimately, Statistics contains tools concerned with explaining data"
   ]
  },
  {
   "cell_type": "markdown",
   "metadata": {
    "slideshow": {
     "slide_type": "slide"
    }
   },
   "source": [
    "## Machine Learning"
   ]
  },
  {
   "cell_type": "markdown",
   "metadata": {
    "slideshow": {
     "slide_type": "subslide"
    }
   },
   "source": [
    " * Machine Learning is a field concerned about learning from data\n",
    " * Making **predictions** on unseen data\n",
    " * Learning how to represent data effectively \n",
    " \n",
    " > Machine learning (ML) is a field of artificial intelligence that uses statistical techniques to give computer systems the ability to \"learn\" (e.g., progressively improve performance on a specific task) from data, without being explicitly programmed.\n"
   ]
  },
  {
   "cell_type": "markdown",
   "metadata": {
    "slideshow": {
     "slide_type": "slide"
    }
   },
   "source": [
    "![](./assets/ml.png)"
   ]
  },
  {
   "cell_type": "markdown",
   "metadata": {
    "slideshow": {
     "slide_type": "-"
    }
   },
   "source": [
    "![](./assets/hype.png)"
   ]
  },
  {
   "cell_type": "markdown",
   "metadata": {
    "slideshow": {
     "slide_type": "-"
    }
   },
   "source": [
    "![](./assets/esl.png)"
   ]
  },
  {
   "cell_type": "markdown",
   "metadata": {
    "slideshow": {
     "slide_type": "slide"
    }
   },
   "source": [
    "#### Not always friendly\n",
    "\n",
    "![](./assets/twocultures.png)"
   ]
  },
  {
   "cell_type": "markdown",
   "metadata": {
    "slideshow": {
     "slide_type": "slide"
    }
   },
   "source": [
    "![](./assets/abstract.png)"
   ]
  },
  {
   "cell_type": "markdown",
   "metadata": {
    "slideshow": {
     "slide_type": "slide"
    }
   },
   "source": [
    "# Modeling"
   ]
  },
  {
   "cell_type": "markdown",
   "metadata": {
    "slideshow": {
     "slide_type": "fragment"
    }
   },
   "source": [
    "A statistical or machine learning model is a mathematical representation of data and associated outcomes\n",
    "\n",
    " * Simplification of complex processes that allows us to reason or make predictions\n",
    " * Often probabilistic in nature\n",
    " * Models have parameters which need to be fit often indicated using the symbol $\\theta$\n"
   ]
  },
  {
   "cell_type": "markdown",
   "metadata": {
    "slideshow": {
     "slide_type": "slide"
    }
   },
   "source": [
    "![](./assets/box.jpg)"
   ]
  },
  {
   "cell_type": "markdown",
   "metadata": {
    "slideshow": {
     "slide_type": "slide"
    }
   },
   "source": [
    "![](./assets/map.png)"
   ]
  },
  {
   "cell_type": "markdown",
   "metadata": {
    "slideshow": {
     "slide_type": "slide"
    }
   },
   "source": [
    "![](./assets/blackbox.png)"
   ]
  },
  {
   "cell_type": "markdown",
   "metadata": {
    "slideshow": {
     "slide_type": "slide"
    }
   },
   "source": [
    "![](./assets/statisticsmodels.png)\n",
    "\n",
    "### Validation:\n",
    " * Goodness of Fit\n",
    " * Residual Analysis"
   ]
  },
  {
   "cell_type": "markdown",
   "metadata": {
    "slideshow": {
     "slide_type": "slide"
    }
   },
   "source": [
    "![](./assets/algorithmic.png)\n",
    "\n",
    "### Validation:\n",
    "* Predictive Preformance"
   ]
  },
  {
   "cell_type": "markdown",
   "metadata": {
    "slideshow": {
     "slide_type": "slide"
    }
   },
   "source": [
    "# Example:"
   ]
  },
  {
   "cell_type": "markdown",
   "metadata": {
    "slideshow": {
     "slide_type": "subslide"
    }
   },
   "source": [
    "#### Let's say we flip a coin 13 times and the results are as follows:"
   ]
  },
  {
   "cell_type": "code",
   "execution_count": 1,
   "metadata": {
    "slideshow": {
     "slide_type": "fragment"
    }
   },
   "outputs": [
    {
     "data": {
      "text/plain": [
       "5"
      ]
     },
     "execution_count": 1,
     "metadata": {},
     "output_type": "execute_result"
    }
   ],
   "source": [
    "results = [1, 0, 0, 1, 0, 0, 0, 0, 1, 1, 0, 0, 1]\n",
    "\n",
    "sum(results)"
   ]
  },
  {
   "cell_type": "markdown",
   "metadata": {
    "slideshow": {
     "slide_type": "fragment"
    }
   },
   "source": [
    "Our first step is to define a model for how the data was generated. A natural model for binary data like this is the bernoulli model, which we have seen. The Bernoulli distribution is given by:"
   ]
  },
  {
   "cell_type": "markdown",
   "metadata": {
    "slideshow": {
     "slide_type": "slide"
    }
   },
   "source": [
    "$$ P(X = 1) = \\theta $$\n",
    "$$ P(X = 0) = 1- \\theta $$"
   ]
  },
  {
   "cell_type": "markdown",
   "metadata": {
    "slideshow": {
     "slide_type": "fragment"
    }
   },
   "source": [
    "$$ P(x) = \\theta^x(1-\\theta)^{1-x} $$"
   ]
  },
  {
   "cell_type": "markdown",
   "metadata": {
    "slideshow": {
     "slide_type": "fragment"
    }
   },
   "source": [
    "$$ X \\stackrel{iid}{\\sim} Bern(\\theta) $$"
   ]
  },
  {
   "cell_type": "markdown",
   "metadata": {
    "slideshow": {
     "slide_type": "slide"
    }
   },
   "source": [
    "How do we *estimate* the value of $\\theta$?\n",
    "\n",
    "How do we *fit* the model?"
   ]
  },
  {
   "cell_type": "markdown",
   "metadata": {
    "slideshow": {
     "slide_type": "slide"
    }
   },
   "source": [
    "## Statistical Approach"
   ]
  },
  {
   "cell_type": "markdown",
   "metadata": {
    "slideshow": {
     "slide_type": "subslide"
    }
   },
   "source": [
    "Start by defining a **likelihood function**\n",
    "\n",
    "A **Likelihood function** is a function of the parameters of the model *given* observed data which expresses how *likely* or *probable* the data observed are for different values of the parameters"
   ]
  },
  {
   "cell_type": "markdown",
   "metadata": {
    "slideshow": {
     "slide_type": "subslide"
    }
   },
   "source": [
    "In this case, since we know that each coin flip is independent and identically distributed, we can saw that the likelihood of seeing the results that we've seen for different values of $\\theta$ can be written as:\n",
    "\n",
    "$$ L(\\theta|x) = \\prod_{i=1}^{n} \\theta^{x_i}(1-\\theta)^{1-x_i} $$"
   ]
  },
  {
   "cell_type": "markdown",
   "metadata": {
    "slideshow": {
     "slide_type": "fragment"
    }
   },
   "source": [
    "*Is this a probability distribution?*"
   ]
  },
  {
   "cell_type": "code",
   "execution_count": 1,
   "metadata": {
    "slideshow": {
     "slide_type": "slide"
    }
   },
   "outputs": [],
   "source": [
    "import numpy as np\n",
    "import matplotlib.pyplot as plt\n",
    "%matplotlib inline"
   ]
  },
  {
   "cell_type": "code",
   "execution_count": 2,
   "metadata": {
    "slideshow": {
     "slide_type": "subslide"
    }
   },
   "outputs": [],
   "source": [
    "def compute_bernoulli_likelihood(num_success, total_num, p):\n",
    "    likelihood = (p**num_success) * (1-p)**(total_num - num_success)\n",
    "    return likelihood"
   ]
  },
  {
   "cell_type": "code",
   "execution_count": 4,
   "metadata": {
    "slideshow": {
     "slide_type": "fragment"
    }
   },
   "outputs": [],
   "source": [
    "thetas = np.linspace(0, 1, 10000)"
   ]
  },
  {
   "cell_type": "code",
   "execution_count": 5,
   "metadata": {
    "scrolled": true,
    "slideshow": {
     "slide_type": "fragment"
    }
   },
   "outputs": [],
   "source": [
    "likelihoods = [compute_bernoulli_likelihood(5, 13, x) for x in thetas]"
   ]
  },
  {
   "cell_type": "code",
   "execution_count": 6,
   "metadata": {
    "slideshow": {
     "slide_type": "slide"
    }
   },
   "outputs": [
    {
     "data": {
      "text/plain": [
       "<matplotlib.lines.Line2D at 0x7fddbef1f9b0>"
      ]
     },
     "execution_count": 6,
     "metadata": {},
     "output_type": "execute_result"
    },
    {
     "data": {
      "image/png": "[encoded data removed]",
      "text/plain": [
       "<Figure size 432x288 with 1 Axes>"
      ]
     },
     "metadata": {
      "needs_background": "light"
     },
     "output_type": "display_data"
    }
   ],
   "source": [
    "fig, axes = plt.subplots()\n",
    "axes.plot(thetas, likelihoods)\n",
    "axes.set(title = \"Likelihood for 5 heads in 13 tries\",\n",
    "            xlabel = \"Theta\",\n",
    "            ylabel = \"Likelihood\")\n",
    "axes.axvline(5./13., linestyle = \":\", color = \"red\")\n"
   ]
  },
  {
   "cell_type": "markdown",
   "metadata": {
    "slideshow": {
     "slide_type": "slide"
    }
   },
   "source": [
    "## Deriving the maximum likelihood estimate"
   ]
  },
  {
   "cell_type": "markdown",
   "metadata": {
    "slideshow": {
     "slide_type": "subslide"
    }
   },
   "source": [
    "Need to maximize this:\n",
    "\n",
    "$$ L(\\theta|x) = \\prod_{i=1}^{n} \\theta^{x_i}(1-\\theta)^{1-x_i} $$\n"
   ]
  },
  {
   "cell_type": "markdown",
   "metadata": {
    "slideshow": {
     "slide_type": "subslide"
    }
   },
   "source": [
    "Let's make it easier:\n",
    "\n",
    "### The log-likelihood\n",
    "\n",
    "It is often easier to find the maximum of the log-likelihood than it is to find the maximum of the likelihood.\n",
    "\n",
    "Also, numerical underflow issues can be prevented\n",
    "\n",
    "When you take the logarithm, products become sums!\n",
    "\n",
    "$$\\lambda(\\theta|x) = ln L(\\theta|x)$$"
   ]
  },
  {
   "cell_type": "code",
   "execution_count": 8,
   "metadata": {
    "slideshow": {
     "slide_type": "slide"
    }
   },
   "outputs": [],
   "source": [
    "x = np.linspace(0.0001, 1, 10000)\n",
    "y = np.log(x)"
   ]
  },
  {
   "cell_type": "code",
   "execution_count": 9,
   "metadata": {
    "slideshow": {
     "slide_type": "subslide"
    }
   },
   "outputs": [
    {
     "data": {
      "image/png": "[encoded data removed]",
      "text/plain": [
       "<Figure size 432x288 with 1 Axes>"
      ]
     },
     "metadata": {
      "needs_background": "light"
     },
     "output_type": "display_data"
    }
   ],
   "source": [
    "plt.plot(x, y)\n",
    "plt.title(\"Logarithms are Monotonically Increasing\")\n",
    "plt.show()"
   ]
  },
  {
   "cell_type": "markdown",
   "metadata": {
    "slideshow": {
     "slide_type": "slide"
    }
   },
   "source": [
    "$$ \\lambda(\\theta|x) = ln(\\prod_{i=1}^{n}\\theta^x(1-\\theta)^{1-x_i})$$\n",
    "\n",
    "$$ \\lambda(\\theta|x) = \\ln(\\theta) \\Sigma_{i=1}^{n}x_i + ln(1-\\theta)\\Sigma_{i=1}^{n}(1-x_i)$$\n",
    "\n",
    "We can find the maximum by setting the derivative of the log-likelihood to 0 and solving for $\\theta$\n",
    "\n",
    "$$\\frac{d\\lambda(\\theta|x)}{d\\theta} = \\frac{\\Sigma(x_i)}{\\theta} - \\frac{\\Sigma(1-x_i)}{1-\\theta} = 0$$\n",
    "\n",
    "$$\\Sigma{x_i} - \\theta\\Sigma{x_i} = \\theta\\Sigma(1-x_i)$$\n",
    "\n",
    "$$\\Sigma{x_i} = \\theta(n)$$\n",
    "\n",
    "$$\\theta = \\Sigma\\frac{x_i}{n} $$\n",
    "Note that this is just the observed proportion of heads!"
   ]
  },
  {
   "cell_type": "markdown",
   "metadata": {
    "slideshow": {
     "slide_type": "slide"
    }
   },
   "source": [
    "## Machine Learning Approach"
   ]
  },
  {
   "cell_type": "markdown",
   "metadata": {
    "slideshow": {
     "slide_type": "subslide"
    }
   },
   "source": [
    "Remember that Machine Learning is concerned with prediction. Many machine learning models approach fitting models and parameters with a *loss function*.\n",
    "\n",
    "A *loss function* represents a cost for getting a *prediction* incorrect. In this case, we are interested in predicting future coin flips (this is an overly simplistic model - most machine learning models include hundreds of parameters).\n",
    "\n",
    "For these types of problems, where we are trying to classify a coin flip as a 1 or 0 (known as a binary classification problem), we will use the *cross-entropy* loss."
   ]
  },
  {
   "cell_type": "markdown",
   "metadata": {
    "slideshow": {
     "slide_type": "slide"
    }
   },
   "source": [
    "## Cross-entropy loss"
   ]
  },
  {
   "cell_type": "markdown",
   "metadata": {
    "slideshow": {
     "slide_type": "subslide"
    }
   },
   "source": [
    "$$ loss = -(ylog(p) + (1-y)log(1-p)) $$\n",
    "\n",
    "Where y = 1 if the coin flip is heads and y = 0 if the coin flip is tails. (As a note, sometimes machine learning uses +1 and -1 to denote classes rather than the classical 1 and 0 -- how would this change the loss?)"
   ]
  },
  {
   "cell_type": "markdown",
   "metadata": {},
   "source": [
    "## Exercise: \n",
    "> Graph this function for values of the predicted value p when y is 0 and when y is equal to 1"
   ]
  },
  {
   "cell_type": "markdown",
   "metadata": {
    "slideshow": {
     "slide_type": "subslide"
    }
   },
   "source": [
    "We want to *minimize* this loss over our dataset. If you notice, this is very similar to the likelihood approach! In fact, in this case,  maximizing the log-likelihood and minimizing this loss function yield the exact same estimate for $\\theta$ or $p$"
   ]
  },
  {
   "cell_type": "markdown",
   "metadata": {
    "slideshow": {
     "slide_type": "slide"
    }
   },
   "source": [
    "# Linear Regression"
   ]
  },
  {
   "cell_type": "markdown",
   "metadata": {
    "slideshow": {
     "slide_type": "subslide"
    }
   },
   "source": [
    "One of the simplest models for modeling a relationship in data is linear regression. It has been used in both statistics and machine learning, but its history is mostly rooted in statistics.\n",
    "\n",
    "In fact, there is an entire subfield of statistics known as regression analysis.\n"
   ]
  },
  {
   "cell_type": "markdown",
   "metadata": {
    "slideshow": {
     "slide_type": "slide"
    }
   },
   "source": [
    "#### So what is it?\n",
    "\n",
    "A linear regression uses the linear equation:\n",
    "\n",
    "$$ y = mx + b $$ where $m$ and $b$ are the parameters of the model, $x$ is some real-value input, and $y$ is a real-valued output. The goal is to find the parameters $m$ and $b$ that best fit the data. Instead of $m$ and $b$, usually statisticians will use $\\beta$ instead. So \n",
    "\n",
    "$$ y = mx + b $$ \n",
    "\n",
    "becomes \n",
    "$$ y = \\beta_0 + \\beta_1x + \\epsilon_i$$, where $\\epsilon_i$ are independently distributed according to $N(0, \\sigma^2)$\n",
    "\n",
    "This is pretty limited if $x$ is just one-dimensional, so linear regression often extends to multiple dimensions, where it is known as multivariate regression, or multiple linear regression.\n",
    "\n",
    "$$ y = \\beta_0 + \\beta_1x_1 + \\beta_2x_2 ... $$"
   ]
  },
  {
   "cell_type": "markdown",
   "metadata": {
    "slideshow": {
     "slide_type": "slide"
    }
   },
   "source": [
    "Some terminology:\n",
    "    \n",
    "In statistics, $\\beta_0$ is known as an intercept, and $\\beta_1$ is called a covariate, or independent variable. "
   ]
  },
  {
   "cell_type": "code",
   "execution_count": 11,
   "metadata": {
    "slideshow": {
     "slide_type": "subslide"
    }
   },
   "outputs": [],
   "source": [
    "import pandas as pd\n",
    "import statsmodels.api as sm\n",
    "diabetes_df = pd.read_csv(\"../Assignments/hw2/data/diabetic_data.csv\")"
   ]
  },
  {
   "cell_type": "markdown",
   "metadata": {
    "slideshow": {
     "slide_type": "slide"
    }
   },
   "source": [
    "# Let's say we have a really simple model:\n",
    "\n",
    "`num_lab_procedures = intercept + num_medications`"
   ]
  },
  {
   "cell_type": "code",
   "execution_count": 14,
   "metadata": {
    "slideshow": {
     "slide_type": "slide"
    }
   },
   "outputs": [
    {
     "data": {
      "text/plain": [
       "<matplotlib.collections.PathCollection at 0x111417748>"
      ]
     },
     "execution_count": 14,
     "metadata": {},
     "output_type": "execute_result"
    },
    {
     "data": {
      "image/png": "[encoded data removed]",
      "text/plain": [
       "<Figure size 432x288 with 1 Axes>"
      ]
     },
     "metadata": {
      "needs_background": "light"
     },
     "output_type": "display_data"
    }
   ],
   "source": [
    "plt.scatter(diabetes_df['num_medications'].values, diabetes_df['num_lab_procedures'].values, alpha = 0.03)"
   ]
  },
  {
   "cell_type": "markdown",
   "metadata": {
    "slideshow": {
     "slide_type": "slide"
    }
   },
   "source": [
    "In the likelihood-based approach, we would have to come up with a likelihood function, and then maximize it given our data.\n",
    "\n",
    "Another way to formulate the linear regression model is to do so probabilistically.\n",
    "\n",
    "$$y|X \\sim N(\\beta_0 + \\beta_1x_1, \\sigma^2I_n)$$\n",
    "\n",
    "Then, we simply have to find the maximum likelihood estimate of this:"
   ]
  },
  {
   "cell_type": "markdown",
   "metadata": {
    "slideshow": {
     "slide_type": "subslide"
    }
   },
   "source": [
    "## Likelihood\n",
    "\n",
    "$$\\prod_{i=1}^n p(y_i|x_i;b_0, b_1, s^2) = \\prod_{i=1}^{n}\\frac{1}{\\sqrt{2\\pi s^2}}e^{-{\\frac{y_i - (b_0 + b_1x_i)^2}{2s^2}}} $$"
   ]
  },
  {
   "cell_type": "markdown",
   "metadata": {
    "slideshow": {
     "slide_type": "slide"
    }
   },
   "source": [
    "Ok, how about another way?\n",
    "\n",
    "It turns out that you can get the closed form solutions to this problem (if you assume normal errors), by using the OLS solution.\n",
    "\n",
    "Here, we say that \n",
    "\n",
    "$$ \\textbf{x} = \\begin{bmatrix}1\\\\ x_1\\end{bmatrix}$$\n",
    "$$ \\boldsymbol{\\beta} = \\begin{bmatrix}\\beta_0 \\\\ \\beta_1 \\end{bmatrix} $$\n",
    "\n",
    "so we can write:\n",
    "\n",
    "$$ y_i = \\boldsymbol{\\beta}^T\\boldsymbol{x_i}$$\n",
    "\n",
    "In the OLS solution, we know that\n",
    "\n",
    "$$ \\boldsymbol{\\beta} = (X^TX)^{-1}X^Ty$$\n",
    "\n",
    "Where X is the matrix\n",
    "\n",
    "$$ \\begin{bmatrix}1 & x_1 \\\\ 1 & x_2 \\\\ 1 & x_3 \\end{bmatrix}$$ and so on.\n",
    "\n",
    "This is called the *design matrix* in statistics"
   ]
  },
  {
   "cell_type": "code",
   "execution_count": 15,
   "metadata": {
    "slideshow": {
     "slide_type": "slide"
    }
   },
   "outputs": [],
   "source": [
    "y = diabetes_df['num_lab_procedures'].values\n",
    "x = np.column_stack((np.ones((diabetes_df.shape[0])), diabetes_df['num_medications'].values))"
   ]
  },
  {
   "cell_type": "code",
   "execution_count": 16,
   "metadata": {
    "slideshow": {
     "slide_type": "subslide"
    }
   },
   "outputs": [
    {
     "name": "stdout",
     "output_type": "stream",
     "text": [
      "[[ 1.  1.]\n",
      " [ 1. 18.]\n",
      " [ 1. 13.]\n",
      " ...\n",
      " [ 1.  9.]\n",
      " [ 1. 21.]\n",
      " [ 1.  3.]]\n"
     ]
    },
    {
     "data": {
      "text/plain": [
       "(101766, 2)"
      ]
     },
     "execution_count": 16,
     "metadata": {},
     "output_type": "execute_result"
    }
   ],
   "source": [
    "print(x)\n",
    "x.shape"
   ]
  },
  {
   "cell_type": "code",
   "execution_count": 17,
   "metadata": {
    "slideshow": {
     "slide_type": "subslide"
    }
   },
   "outputs": [
    {
     "name": "stdout",
     "output_type": "stream",
     "text": [
      "[41 59 11 ... 53 45 13]\n"
     ]
    },
    {
     "data": {
      "text/plain": [
       "(101766,)"
      ]
     },
     "execution_count": 17,
     "metadata": {},
     "output_type": "execute_result"
    }
   ],
   "source": [
    "print(y)\n",
    "y.shape"
   ]
  },
  {
   "cell_type": "code",
   "execution_count": 18,
   "metadata": {
    "slideshow": {
     "slide_type": "slide"
    }
   },
   "outputs": [
    {
     "data": {
      "text/plain": [
       "array([32.69529799,  0.6491352 ])"
      ]
     },
     "execution_count": 18,
     "metadata": {},
     "output_type": "execute_result"
    }
   ],
   "source": [
    "np.dot(np.dot(np.linalg.inv(np.dot(np.transpose(x), x)), np.transpose(x)), y)"
   ]
  },
  {
   "cell_type": "code",
   "execution_count": 20,
   "metadata": {
    "slideshow": {
     "slide_type": "fragment"
    }
   },
   "outputs": [],
   "source": [
    "model = sm.OLS(y, x).fit()"
   ]
  },
  {
   "cell_type": "code",
   "execution_count": 21,
   "metadata": {
    "slideshow": {
     "slide_type": "slide"
    }
   },
   "outputs": [
    {
     "name": "stdout",
     "output_type": "stream",
     "text": [
      "                            OLS Regression Results                            \n",
      "==============================================================================\n",
      "Dep. Variable:                      y   R-squared:                       0.072\n",
      "Model:                            OLS   Adj. R-squared:                  0.072\n",
      "Method:                 Least Squares   F-statistic:                     7885.\n",
      "Date:                Thu, 07 Feb 2019   Prob (F-statistic):               0.00\n",
      "Time:                        15:41:23   Log-Likelihood:            -4.4380e+05\n",
      "No. Observations:              101766   AIC:                         8.876e+05\n",
      "Df Residuals:                  101764   BIC:                         8.876e+05\n",
      "Df Model:                           1                                         \n",
      "Covariance Type:            nonrobust                                         \n",
      "==============================================================================\n",
      "                 coef    std err          t      P>|t|      [0.025      0.975]\n",
      "------------------------------------------------------------------------------\n",
      "const         32.6953      0.131    248.949      0.000      32.438      32.953\n",
      "x1             0.6491      0.007     88.797      0.000       0.635       0.663\n",
      "==============================================================================\n",
      "Omnibus:                     1723.615   Durbin-Watson:                   1.843\n",
      "Prob(Omnibus):                  0.000   Jarque-Bera (JB):             1594.485\n",
      "Skew:                          -0.265   Prob(JB):                         0.00\n",
      "Kurtosis:                       2.690   Cond. No.                         39.8\n",
      "==============================================================================\n",
      "\n",
      "Warnings:\n",
      "[1] Standard Errors assume that the covariance matrix of the errors is correctly specified.\n"
     ]
    }
   ],
   "source": [
    "print(model.summary())"
   ]
  },
  {
   "cell_type": "code",
   "execution_count": 22,
   "metadata": {
    "scrolled": true,
    "slideshow": {
     "slide_type": "slide"
    }
   },
   "outputs": [
    {
     "data": {
      "image/png": "[encoded data removed]",
      "text/plain": [
       "<Figure size 432x288 with 1 Axes>"
      ]
     },
     "metadata": {
      "needs_background": "light"
     },
     "output_type": "display_data"
    }
   ],
   "source": [
    "plt.scatter(diabetes_df['num_medications'].values, diabetes_df['num_lab_procedures'].values, alpha = 0.03)\n",
    "plt.plot([0, 80], [32.69529799, 32.69529799 + 0.6491 * 80], linestyle = \":\", color = \"orange\", linewidth = 5, label = \"OLS\")\n",
    "plt.legend()\n",
    "plt.xlabel('num_medications')\n",
    "plt.ylabel('num_lab_procedures')\n",
    "plt.show()"
   ]
  },
  {
   "cell_type": "markdown",
   "metadata": {
    "slideshow": {
     "slide_type": "slide"
    }
   },
   "source": [
    "#### Assumptions:\n",
    "\n",
    "In statistics, because regression analysis often assumes that the linear model actually represents the data generation process, there are assumptions that need to be made.\n",
    "\n",
    " * There is a linear relationship between the variables\n",
    " * The predictor (independent, covariate) variables are not too correlated with each other (multicollinearity)\n",
    " * Homoscedasticity (equal variance of dependent variable for all values)\n",
    " * The errors $\\epsilon$ are indepdently distributed (no autocorrelated errors)\n"
   ]
  },
  {
   "cell_type": "markdown",
   "metadata": {
    "slideshow": {
     "slide_type": "slide"
    }
   },
   "source": [
    "#### Model Checking\n",
    "How to check how well the model fits:\n",
    "\n",
    "$R^2$ proportion of variance explained\n",
    "\n",
    "*F-tests* Is your model different than a null model\n",
    "\n",
    "Check residuals:"
   ]
  },
  {
   "cell_type": "markdown",
   "metadata": {
    "slideshow": {
     "slide_type": "slide"
    }
   },
   "source": [
    "![](./assets/residualanalysis.png)"
   ]
  },
  {
   "cell_type": "markdown",
   "metadata": {
    "slideshow": {
     "slide_type": "slide"
    }
   },
   "source": [
    "#### Analysis:\n",
    "\n",
    "An analysis in a statistical setting would be to say that according to the model, 1 unit increase in number of medications a patient is taking is associated with approximately a 0.6491 increase in the number of lab procedures a patient is taking.\n"
   ]
  },
  {
   "cell_type": "markdown",
   "metadata": {
    "slideshow": {
     "slide_type": "slide"
    }
   },
   "source": [
    "## Machine Learning approach"
   ]
  },
  {
   "cell_type": "markdown",
   "metadata": {
    "slideshow": {
     "slide_type": "subslide"
    }
   },
   "source": [
    "In machine learning, we usually use the following notation:\n",
    "\n",
    "$$ y = \\textbf{w}^Tx $$\n",
    "\n",
    "where $$\\textbf{w} = \\begin{bmatrix} b \\\\ w \\end{bmatrix}$$\n",
    "\n",
    "where $\\textbf{w}$ are known as weights, and intercepts, denoted by $b$, are known as a bias term.\n",
    "\n"
   ]
  },
  {
   "cell_type": "markdown",
   "metadata": {
    "slideshow": {
     "slide_type": "subslide"
    }
   },
   "source": [
    "### Fit the model:\n",
    "\n",
    "Start with a loss function. Here we will use the mean squared error loss, which is given by:\n",
    "\n",
    "$$ loss =  \\frac{1}{N}\\Sigma_{i=1}^{n}(y_i - (\\textbf{w}^Tx_i))^2$$\n",
    "\n",
    "By minimizing this function with respect to b and w, we obtain the exact same estimate as the OLS solution. We will go into details next week."
   ]
  },
  {
   "cell_type": "markdown",
   "metadata": {
    "slideshow": {
     "slide_type": "fragment"
    }
   },
   "source": [
    "#### Model Checking:\n",
    "\n",
    "How well do you predict new cases?"
   ]
  }
 ],
 "metadata": {
  "celltoolbar": "Slideshow",
  "kernelspec": {
   "display_name": "Python 3",
   "language": "python",
   "name": "python3"
  },
  "language_info": {
   "codemirror_mode": {
    "name": "ipython",
    "version": 3
   },
   "file_extension": ".py",
   "mimetype": "text/x-python",
   "name": "python",
   "nbconvert_exporter": "python",
   "pygments_lexer": "ipython3",
   "version": "3.7.3"
  }
 },
 "nbformat": 4,
 "nbformat_minor": 2
}
